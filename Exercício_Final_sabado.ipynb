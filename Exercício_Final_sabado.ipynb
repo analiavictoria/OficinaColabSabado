{
  "nbformat": 4,
  "nbformat_minor": 0,
  "metadata": {
    "colab": {
      "provenance": [],
      "include_colab_link": true
    },
    "kernelspec": {
      "name": "python3",
      "display_name": "Python 3"
    },
    "language_info": {
      "name": "python"
    }
  },
  "cells": [
    {
      "cell_type": "markdown",
      "metadata": {
        "id": "view-in-github",
        "colab_type": "text"
      },
      "source": [
        "<a href=\"https://colab.research.google.com/github/analiavictoria/OficinaColabSabado/blob/main/Exerc%C3%ADcio_Final_sabado.ipynb\" target=\"_parent\"><img src=\"https://colab.research.google.com/assets/colab-badge.svg\" alt=\"Open In Colab\"/></a>"
      ]
    },
    {
      "cell_type": "markdown",
      "source": [
        "# Contagem de Medalhas\n",
        "\n",
        "Crie um programa que receba o número de medalhas de ouro, prata e bronze de um país nas Olimpíadas e calcule o total de medalhas.\n",
        "Quando escrever 'sair', o programa deverá encerrar e mostrar na tela o ranking de medalhas no formato:"
      ],
      "metadata": {
        "id": "RQN1e5FZY6SZ"
      }
    },
    {
      "cell_type": "code",
      "source": [
        "#Ranking de medalhas:\n",
        "#Brasil: 7 medalhas\n",
        "#França: 6 medalhas\n",
        "#Argentina: 3 medalhas"
      ],
      "metadata": {
        "id": "gCq_KLHzZSzb"
      },
      "execution_count": null,
      "outputs": []
    },
    {
      "cell_type": "code",
      "execution_count": 22,
      "metadata": {
        "id": "AJJhjxiPTd5s",
        "outputId": "8018e708-3236-421b-f820-c93f8b5b3df4",
        "colab": {
          "base_uri": "https://localhost:8080/"
        }
      },
      "outputs": [
        {
          "output_type": "stream",
          "name": "stdout",
          "text": [
            "\n",
            "Digite o número de medalhas para Brasil:\n",
            "Ouro: 3\n",
            "Prata: 2\n",
            "Bronze: 2\n",
            "\n",
            "Digite o número de medalhas para França:\n",
            "Ouro: 2\n",
            "Prata: 2\n",
            "Bronze: 2\n",
            "\n",
            "Digite o número de medalhas para Argentina:\n",
            "Ouro: 1\n",
            "Prata: 1\n",
            "Bronze: 1\n",
            "\n",
            "Digite 'sair' para encerrar e exbir o ranking: sair\n",
            "\n",
            "Ranking de medalhas:\n",
            "Brasil: 7 medalhas\n",
            "França: 6 medalhas\n",
            "Argentina: 3 medalhas\n"
          ]
        }
      ],
      "source": [
        "# Resposta aqui\n",
        "\n",
        "def medalhas_pais():\n",
        "    rank = {\"Brasil\": 0, \"França\": 0, \"Argentina\": 0}\n",
        "\n",
        "    while True:\n",
        "        for pais in rank:\n",
        "            print(f\"\\nDigite o número de medalhas para {pais}:\")\n",
        "            ouro = int(input(\"Ouro: \"))\n",
        "            prata = int(input(\"Prata: \"))\n",
        "            bronze = int(input(\"Bronze: \"))\n",
        "\n",
        "            total_medalhas = ouro + prata + bronze\n",
        "            rank[pais] = total_medalhas\n",
        "\n",
        "        saida = input(\"\\nDigite 'sair' para encerrar e exbir o ranking: \")\n",
        "        if saida == 'sair':\n",
        "            break\n",
        "\n",
        "    print(\"\\nRanking de medalhas:\")\n",
        "    for pais, total in rank.items():\n",
        "        print(f\"{pais}: {total} medalhas\")\n",
        "\n",
        "medalhas_pais()\n"
      ]
    }
  ]
}